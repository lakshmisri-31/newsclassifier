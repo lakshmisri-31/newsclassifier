{
 "cells": [
  {
   "cell_type": "code",
   "execution_count": null,
   "metadata": {},
   "outputs": [
    {
     "name": "stdout",
     "output_type": "stream",
     "text": [
      "Train Data Columns: Index(['Class Index', 'Title', 'Description'], dtype='object')\n",
      "Test Data Columns: Index(['Class Index', 'Title', 'Description'], dtype='object')\n",
      "Model and vectorizer saved successfully!\n"
     ]
    }
   ],
   "source": [
    "import pandas as pd\n",
    "from sklearn.feature_extraction.text import TfidfVectorizer\n",
    "from sklearn.linear_model import LogisticRegression\n",
    "import joblib\n",
    "\n",
    "#Loading datasets\n",
    "train_data = pd.read_csv(\"C:/Users/laksh/Downloads/archive/train.csv\")  \n",
    "test_data = pd.read_csv(\"C:/Users/laksh/Downloads/archive/test.csv\")  \n",
    "\n",
    "#Displaying the column names for reference\n",
    "print(\"Train Data Columns:\", train_data.columns)\n",
    "print(\"Test Data Columns:\", test_data.columns)\n",
    " \n",
    "\n",
    "#Combining the title and description columns into a single column named text\n",
    "train_data['text'] = train_data['Title'] + \" \" + train_data['Description']\n",
    "test_data['text'] = test_data['Title'] + \" \" + test_data['Description']\n",
    "\n",
    "# Defining features (X) and labels (y)\n",
    "X_train = train_data['text']\n",
    "y_train = train_data['Class Index']  #AS IT HAS CLASS INDEX INSTEAD OF LABEL\n",
    "X_test = test_data['text']\n",
    "y_test = test_data['Class Index']  #AS IT HAS CLASS INDEX INSTEAD OF LABEL\n",
    "\n",
    "\n",
    "# Initialize and fit TF-IDF vectorizer\n",
    "vectorizer = TfidfVectorizer(max_features=5000, stop_words='english', ngram_range=(1, 2))\n",
    "X_train_tfidf = vectorizer.fit_transform(X_train)\n",
    "X_test_tfidf = vectorizer.transform(X_test)  # Transform test data using the same vectorizer\n",
    "\n",
    "# Train Logistic Regression model\n",
    "classifier = LogisticRegression(max_iter=1000, random_state=42)\n",
    "classifier.fit(X_train_tfidf, y_train)\n",
    "\n",
    "# Save the vectorizer and model\n",
    "joblib.dump(vectorizer, 'tfidf_vectorizer.joblib')\n",
    "joblib.dump(classifier, 'logistic_regression_model.joblib')\n",
    "\n",
    "print(\"Model and vectorizer saved successfully!\")\n"
   ]
  }
 ],
 "metadata": {
  "kernelspec": {
   "display_name": "Python 3",
   "language": "python",
   "name": "python3"
  },
  "language_info": {
   "codemirror_mode": {
    "name": "ipython",
    "version": 3
   },
   "file_extension": ".py",
   "mimetype": "text/x-python",
   "name": "python",
   "nbconvert_exporter": "python",
   "pygments_lexer": "ipython3",
   "version": "3.12.6"
  }
 },
 "nbformat": 4,
 "nbformat_minor": 2
}
